{
 "cells": [
  {
   "cell_type": "code",
   "execution_count": 1,
   "metadata": {},
   "outputs": [],
   "source": [
    "print(\"Name : \")"
   ]
  },
  {
   "cell_type": "code",
   "execution_count": 2,
   "metadata": {},
   "outputs": [],
   "source": [
    "#import the libraries\n",
    "import pandas as pd\n",
    "from matplotlib import pyplot as plt\n",
    "\n",
    "#Task 1\n",
    "#Read the bmi.csv\n",
    "bmi_df = pd.read_csv('bmi.csv')\n",
    "print(bmi_df)\n"
   ]
  },
  {
   "cell_type": "code",
   "execution_count": 3,
   "metadata": {},
   "outputs": [],
   "source": [
    "#Task 2\n",
    "#Data is sorted in descending order in accordance with BMI value\n",
    "#Find the top 5 age group where the BMI value is the highest, and plot a bar graph out of it\n",
    "bmi_top_5 = bmi_df.head(5)\n",
    "name = bmi_top_5['Age']\n",
    "number = bmi_top_5['BMI']\n",
    "xlabel('Age')\n",
    "xticks(rotation = 'vertical')\n",
    "ylabel('BMI')\n",
    "\n",
    "label = name\n",
    "value = number\n",
    "plt.bar(label, value, width = 0.4, color = ('red', 'blue', 'green', 'pink', 'yellow'))"
   ]
  },
  {
   "cell_type": "code",
   "execution_count": null,
   "metadata": {},
   "outputs": [],
   "source": []
  },
  {
   "cell_type": "markdown",
   "metadata": {},
   "source": []
  },
  {
   "cell_type": "code",
   "execution_count": 4,
   "metadata": {},
   "outputs": [],
   "source": [
    "#Task 3\n",
    "#Read blood_pressure.csv\n",
    "blood_pressure_df = pd.read_csv('blood_pressure.csv')\n",
    "print(blood_pressure_df)\n"
   ]
  },
  {
   "cell_type": "code",
   "execution_count": 5,
   "metadata": {},
   "outputs": [],
   "source": [
    "#Task 4\n",
    "#Data is sorted in ascending order in accordance with Blood Pressure\n",
    "#Find the top 5 age group where the BloodPressure value is the highest, and plot a bar graph out of it\n",
    "bloodpressure_top_5 = blood_pressure_df.tail(5)\n",
    "name = bloodpressure_top_5['Age']\n",
    "number = bloodpressure_top_5['Blood Pressure']\n",
    "\n",
    "xlabel(\"Age\")\n",
    "xticks(rotation = 'vertical')\n",
    "ylabel(\"Blood Pressure\")\n",
    "\n",
    "label = name\n",
    "value = number\n",
    "plt.bar(label, value, width = 0.4, color = ('red', 'blue', 'green', 'pink', 'yellow'))"
   ]
  },
  {
   "cell_type": "code",
   "execution_count": 6,
   "metadata": {},
   "outputs": [],
   "source": [
    "#Task 5\n",
    "#Read the insulin.csv\n",
    "insulin_df = pd.read_csv('insulin.csv')\n",
    "print(insulin_df)\n"
   ]
  },
  {
   "cell_type": "code",
   "execution_count": 18,
   "metadata": {
    "scrolled": true
   },
   "outputs": [
    {
     "ename": "NameError",
     "evalue": "name 'insulin_df' is not defined",
     "output_type": "error",
     "traceback": [
      "\u001b[1;31m---------------------------------------------------------------------------\u001b[0m",
      "\u001b[1;31mNameError\u001b[0m                                 Traceback (most recent call last)",
      "Cell \u001b[1;32mIn[18], line 4\u001b[0m\n\u001b[0;32m      1\u001b[0m \u001b[38;5;66;03m#Task 6\u001b[39;00m\n\u001b[0;32m      2\u001b[0m \u001b[38;5;66;03m#Data is sorted in descending order in accordance with Insulin value\u001b[39;00m\n\u001b[0;32m      3\u001b[0m \u001b[38;5;66;03m#Find out what will be the Glucose and BMI value when the Insulin is highest\u001b[39;00m\n\u001b[1;32m----> 4\u001b[0m top_1 \u001b[38;5;241m=\u001b[39m \u001b[43minsulin_df\u001b[49m\u001b[38;5;241m.\u001b[39mhead(\u001b[38;5;241m1\u001b[39m)\n\u001b[0;32m      5\u001b[0m \u001b[38;5;28mprint\u001b[39m(top_1)\n\u001b[0;32m      6\u001b[0m \u001b[38;5;28mprint\u001b[39m(\u001b[38;5;124m\"\u001b[39m\u001b[38;5;124mWhen Insulin is highest Glucose is:\u001b[39m\u001b[38;5;124m\"\u001b[39m)\n",
      "\u001b[1;31mNameError\u001b[0m: name 'insulin_df' is not defined"
     ]
    }
   ],
   "source": [
    "#Task 6\n",
    "#Data is sorted in descending order in accordance with Insulin value\n",
    "#Find out what will be the Glucose and BMI value when the Insulin is highest\n",
    "top_1 = insulin_df.head(1)\n",
    "print(top_1)\n",
    "print(\"When Insulin is highest Glucose is:\")\n",
    "\n",
    "print(\"When Insulin is the highest BMI value is:\")"
   ]
  },
  {
   "cell_type": "code",
   "execution_count": null,
   "metadata": {},
   "outputs": [],
   "source": []
  },
  {
   "cell_type": "code",
   "execution_count": null,
   "metadata": {},
   "outputs": [],
   "source": []
  }
 ],
 "metadata": {
  "kernelspec": {
   "display_name": "Python 3 (ipykernel)",
   "language": "python",
   "name": "python3"
  },
  "language_info": {
   "codemirror_mode": {
    "name": "ipython",
    "version": 3
   },
   "file_extension": ".py",
   "mimetype": "text/x-python",
   "name": "python",
   "nbconvert_exporter": "python",
   "pygments_lexer": "ipython3",
   "version": "3.10.9"
  }
 },
 "nbformat": 4,
 "nbformat_minor": 4
}
